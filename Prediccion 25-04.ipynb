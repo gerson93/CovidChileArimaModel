{
 "cells": [
  {
   "cell_type": "code",
   "execution_count": 1,
   "metadata": {},
   "outputs": [],
   "source": [
    "import warnings\n",
    "import numpy as np\n",
    "import pandas as pd\n",
    "import matplotlib.pyplot as plt\n",
    "import statsmodels.api as sm\n",
    "\n",
    "from statsmodels.tsa.stattools import adfuller, acf, pacf\n",
    "#from statsmodels.tsa.seasonal import seasonal_decompose\n",
    "from statsmodels.graphics.tsaplots import plot_acf, plot_pacf\n",
    "\n",
    "from datetime import timedelta"
   ]
  },
  {
   "cell_type": "markdown",
   "metadata": {},
   "source": [
    "# Revision de datos"
   ]
  },
  {
   "cell_type": "code",
   "execution_count": 2,
   "metadata": {},
   "outputs": [
    {
     "data": {
      "text/html": [
       "<div>\n",
       "<style scoped>\n",
       "    .dataframe tbody tr th:only-of-type {\n",
       "        vertical-align: middle;\n",
       "    }\n",
       "\n",
       "    .dataframe tbody tr th {\n",
       "        vertical-align: top;\n",
       "    }\n",
       "\n",
       "    .dataframe thead th {\n",
       "        text-align: right;\n",
       "    }\n",
       "</style>\n",
       "<table border=\"1\" class=\"dataframe\">\n",
       "  <thead>\n",
       "    <tr style=\"text-align: right;\">\n",
       "      <th></th>\n",
       "      <th>Fecha</th>\n",
       "      <th>2020-03-03</th>\n",
       "      <th>2020-03-04</th>\n",
       "      <th>2020-03-05</th>\n",
       "      <th>2020-03-06</th>\n",
       "      <th>2020-03-07</th>\n",
       "      <th>2020-03-08</th>\n",
       "      <th>2020-03-09</th>\n",
       "      <th>2020-03-10</th>\n",
       "      <th>2020-03-11</th>\n",
       "      <th>...</th>\n",
       "      <th>2020-04-16</th>\n",
       "      <th>2020-04-17</th>\n",
       "      <th>2020-04-18</th>\n",
       "      <th>2020-04-19</th>\n",
       "      <th>2020-04-20</th>\n",
       "      <th>2020-04-21</th>\n",
       "      <th>2020-04-22</th>\n",
       "      <th>2020-04-23</th>\n",
       "      <th>2020-04-24</th>\n",
       "      <th>2020-04-25</th>\n",
       "    </tr>\n",
       "  </thead>\n",
       "  <tbody>\n",
       "    <tr>\n",
       "      <td>0</td>\n",
       "      <td>Casos nuevos</td>\n",
       "      <td>0</td>\n",
       "      <td>2</td>\n",
       "      <td>1</td>\n",
       "      <td>1</td>\n",
       "      <td>2</td>\n",
       "      <td>3</td>\n",
       "      <td>5</td>\n",
       "      <td>2</td>\n",
       "      <td>6</td>\n",
       "      <td>...</td>\n",
       "      <td>534</td>\n",
       "      <td>445</td>\n",
       "      <td>478</td>\n",
       "      <td>358</td>\n",
       "      <td>419</td>\n",
       "      <td>325</td>\n",
       "      <td>464</td>\n",
       "      <td>516</td>\n",
       "      <td>494</td>\n",
       "      <td>552</td>\n",
       "    </tr>\n",
       "    <tr>\n",
       "      <td>1</td>\n",
       "      <td>Casos totales</td>\n",
       "      <td>1</td>\n",
       "      <td>3</td>\n",
       "      <td>4</td>\n",
       "      <td>5</td>\n",
       "      <td>7</td>\n",
       "      <td>10</td>\n",
       "      <td>15</td>\n",
       "      <td>17</td>\n",
       "      <td>23</td>\n",
       "      <td>...</td>\n",
       "      <td>8807</td>\n",
       "      <td>9252</td>\n",
       "      <td>9730</td>\n",
       "      <td>10088</td>\n",
       "      <td>10507</td>\n",
       "      <td>10832</td>\n",
       "      <td>11296</td>\n",
       "      <td>11812</td>\n",
       "      <td>12306</td>\n",
       "      <td>12858</td>\n",
       "    </tr>\n",
       "    <tr>\n",
       "      <td>2</td>\n",
       "      <td>Casos recuperados</td>\n",
       "      <td>0</td>\n",
       "      <td>0</td>\n",
       "      <td>0</td>\n",
       "      <td>0</td>\n",
       "      <td>0</td>\n",
       "      <td>0</td>\n",
       "      <td>0</td>\n",
       "      <td>0</td>\n",
       "      <td>0</td>\n",
       "      <td>...</td>\n",
       "      <td>3299</td>\n",
       "      <td>3621</td>\n",
       "      <td>4035</td>\n",
       "      <td>4338</td>\n",
       "      <td>4676</td>\n",
       "      <td>4969</td>\n",
       "      <td>5386</td>\n",
       "      <td>5804</td>\n",
       "      <td>6327</td>\n",
       "      <td>6746</td>\n",
       "    </tr>\n",
       "    <tr>\n",
       "      <td>3</td>\n",
       "      <td>Fallecidos</td>\n",
       "      <td>0</td>\n",
       "      <td>0</td>\n",
       "      <td>0</td>\n",
       "      <td>0</td>\n",
       "      <td>0</td>\n",
       "      <td>0</td>\n",
       "      <td>0</td>\n",
       "      <td>0</td>\n",
       "      <td>0</td>\n",
       "      <td>...</td>\n",
       "      <td>105</td>\n",
       "      <td>116</td>\n",
       "      <td>126</td>\n",
       "      <td>133</td>\n",
       "      <td>139</td>\n",
       "      <td>147</td>\n",
       "      <td>160</td>\n",
       "      <td>168</td>\n",
       "      <td>174</td>\n",
       "      <td>181</td>\n",
       "    </tr>\n",
       "    <tr>\n",
       "      <td>4</td>\n",
       "      <td>Casos activos</td>\n",
       "      <td>1</td>\n",
       "      <td>3</td>\n",
       "      <td>4</td>\n",
       "      <td>5</td>\n",
       "      <td>7</td>\n",
       "      <td>10</td>\n",
       "      <td>15</td>\n",
       "      <td>17</td>\n",
       "      <td>23</td>\n",
       "      <td>...</td>\n",
       "      <td>5403</td>\n",
       "      <td>5515</td>\n",
       "      <td>5569</td>\n",
       "      <td>5617</td>\n",
       "      <td>5692</td>\n",
       "      <td>5716</td>\n",
       "      <td>5750</td>\n",
       "      <td>5840</td>\n",
       "      <td>5805</td>\n",
       "      <td>5931</td>\n",
       "    </tr>\n",
       "  </tbody>\n",
       "</table>\n",
       "<p>5 rows × 55 columns</p>\n",
       "</div>"
      ],
      "text/plain": [
       "               Fecha  2020-03-03  2020-03-04  2020-03-05  2020-03-06  \\\n",
       "0       Casos nuevos           0           2           1           1   \n",
       "1      Casos totales           1           3           4           5   \n",
       "2  Casos recuperados           0           0           0           0   \n",
       "3         Fallecidos           0           0           0           0   \n",
       "4      Casos activos           1           3           4           5   \n",
       "\n",
       "   2020-03-07  2020-03-08  2020-03-09  2020-03-10  2020-03-11  ...  \\\n",
       "0           2           3           5           2           6  ...   \n",
       "1           7          10          15          17          23  ...   \n",
       "2           0           0           0           0           0  ...   \n",
       "3           0           0           0           0           0  ...   \n",
       "4           7          10          15          17          23  ...   \n",
       "\n",
       "   2020-04-16  2020-04-17  2020-04-18  2020-04-19  2020-04-20  2020-04-21  \\\n",
       "0         534         445         478         358         419         325   \n",
       "1        8807        9252        9730       10088       10507       10832   \n",
       "2        3299        3621        4035        4338        4676        4969   \n",
       "3         105         116         126         133         139         147   \n",
       "4        5403        5515        5569        5617        5692        5716   \n",
       "\n",
       "   2020-04-22  2020-04-23  2020-04-24  2020-04-25  \n",
       "0         464         516         494         552  \n",
       "1       11296       11812       12306       12858  \n",
       "2        5386        5804        6327        6746  \n",
       "3         160         168         174         181  \n",
       "4        5750        5840        5805        5931  \n",
       "\n",
       "[5 rows x 55 columns]"
      ]
     },
     "execution_count": 2,
     "metadata": {},
     "output_type": "execute_result"
    }
   ],
   "source": [
    "df_Coronavirus =  pd.read_csv('casos totales.csv')\n",
    "df_Coronavirus.head()"
   ]
  },
  {
   "cell_type": "markdown",
   "metadata": {},
   "source": [
    "Para facilitar el trabajo, obtengo la traspuesta, para dejar las fechas como filas"
   ]
  },
  {
   "cell_type": "code",
   "execution_count": 3,
   "metadata": {},
   "outputs": [
    {
     "data": {
      "text/html": [
       "<div>\n",
       "<style scoped>\n",
       "    .dataframe tbody tr th:only-of-type {\n",
       "        vertical-align: middle;\n",
       "    }\n",
       "\n",
       "    .dataframe tbody tr th {\n",
       "        vertical-align: top;\n",
       "    }\n",
       "\n",
       "    .dataframe thead th {\n",
       "        text-align: right;\n",
       "    }\n",
       "</style>\n",
       "<table border=\"1\" class=\"dataframe\">\n",
       "  <thead>\n",
       "    <tr style=\"text-align: right;\">\n",
       "      <th></th>\n",
       "      <th>index</th>\n",
       "      <th>0</th>\n",
       "      <th>1</th>\n",
       "      <th>2</th>\n",
       "      <th>3</th>\n",
       "      <th>4</th>\n",
       "    </tr>\n",
       "  </thead>\n",
       "  <tbody>\n",
       "    <tr>\n",
       "      <td>0</td>\n",
       "      <td>Fecha</td>\n",
       "      <td>Casos nuevos</td>\n",
       "      <td>Casos totales</td>\n",
       "      <td>Casos recuperados</td>\n",
       "      <td>Fallecidos</td>\n",
       "      <td>Casos activos</td>\n",
       "    </tr>\n",
       "    <tr>\n",
       "      <td>1</td>\n",
       "      <td>2020-03-03</td>\n",
       "      <td>0</td>\n",
       "      <td>1</td>\n",
       "      <td>0</td>\n",
       "      <td>0</td>\n",
       "      <td>1</td>\n",
       "    </tr>\n",
       "    <tr>\n",
       "      <td>2</td>\n",
       "      <td>2020-03-04</td>\n",
       "      <td>2</td>\n",
       "      <td>3</td>\n",
       "      <td>0</td>\n",
       "      <td>0</td>\n",
       "      <td>3</td>\n",
       "    </tr>\n",
       "    <tr>\n",
       "      <td>3</td>\n",
       "      <td>2020-03-05</td>\n",
       "      <td>1</td>\n",
       "      <td>4</td>\n",
       "      <td>0</td>\n",
       "      <td>0</td>\n",
       "      <td>4</td>\n",
       "    </tr>\n",
       "    <tr>\n",
       "      <td>4</td>\n",
       "      <td>2020-03-06</td>\n",
       "      <td>1</td>\n",
       "      <td>5</td>\n",
       "      <td>0</td>\n",
       "      <td>0</td>\n",
       "      <td>5</td>\n",
       "    </tr>\n",
       "  </tbody>\n",
       "</table>\n",
       "</div>"
      ],
      "text/plain": [
       "        index             0              1                  2           3  \\\n",
       "0       Fecha  Casos nuevos  Casos totales  Casos recuperados  Fallecidos   \n",
       "1  2020-03-03             0              1                  0           0   \n",
       "2  2020-03-04             2              3                  0           0   \n",
       "3  2020-03-05             1              4                  0           0   \n",
       "4  2020-03-06             1              5                  0           0   \n",
       "\n",
       "               4  \n",
       "0  Casos activos  \n",
       "1              1  \n",
       "2              3  \n",
       "3              4  \n",
       "4              5  "
      ]
     },
     "execution_count": 3,
     "metadata": {},
     "output_type": "execute_result"
    }
   ],
   "source": [
    "df_Coronavirus_T = df_Coronavirus.T\n",
    "df_Coronavirus_T = df_Coronavirus_T.reset_index()\n",
    "df_Coronavirus_T.head() "
   ]
  },
  {
   "cell_type": "markdown",
   "metadata": {},
   "source": [
    "Arreglamos nuestro nuevo df"
   ]
  },
  {
   "cell_type": "code",
   "execution_count": 4,
   "metadata": {},
   "outputs": [
    {
     "data": {
      "text/html": [
       "<div>\n",
       "<style scoped>\n",
       "    .dataframe tbody tr th:only-of-type {\n",
       "        vertical-align: middle;\n",
       "    }\n",
       "\n",
       "    .dataframe tbody tr th {\n",
       "        vertical-align: top;\n",
       "    }\n",
       "\n",
       "    .dataframe thead th {\n",
       "        text-align: right;\n",
       "    }\n",
       "</style>\n",
       "<table border=\"1\" class=\"dataframe\">\n",
       "  <thead>\n",
       "    <tr style=\"text-align: right;\">\n",
       "      <th></th>\n",
       "      <th>Fecha</th>\n",
       "      <th>Casos nuevos</th>\n",
       "      <th>Casos totales</th>\n",
       "      <th>Casos recuperados</th>\n",
       "      <th>Fallecidos</th>\n",
       "      <th>Casos activos</th>\n",
       "    </tr>\n",
       "  </thead>\n",
       "  <tbody>\n",
       "    <tr>\n",
       "      <td>1</td>\n",
       "      <td>2020-03-03</td>\n",
       "      <td>0</td>\n",
       "      <td>1</td>\n",
       "      <td>0</td>\n",
       "      <td>0</td>\n",
       "      <td>1</td>\n",
       "    </tr>\n",
       "    <tr>\n",
       "      <td>2</td>\n",
       "      <td>2020-03-04</td>\n",
       "      <td>2</td>\n",
       "      <td>3</td>\n",
       "      <td>0</td>\n",
       "      <td>0</td>\n",
       "      <td>3</td>\n",
       "    </tr>\n",
       "    <tr>\n",
       "      <td>3</td>\n",
       "      <td>2020-03-05</td>\n",
       "      <td>1</td>\n",
       "      <td>4</td>\n",
       "      <td>0</td>\n",
       "      <td>0</td>\n",
       "      <td>4</td>\n",
       "    </tr>\n",
       "    <tr>\n",
       "      <td>4</td>\n",
       "      <td>2020-03-06</td>\n",
       "      <td>1</td>\n",
       "      <td>5</td>\n",
       "      <td>0</td>\n",
       "      <td>0</td>\n",
       "      <td>5</td>\n",
       "    </tr>\n",
       "    <tr>\n",
       "      <td>5</td>\n",
       "      <td>2020-03-07</td>\n",
       "      <td>2</td>\n",
       "      <td>7</td>\n",
       "      <td>0</td>\n",
       "      <td>0</td>\n",
       "      <td>7</td>\n",
       "    </tr>\n",
       "  </tbody>\n",
       "</table>\n",
       "</div>"
      ],
      "text/plain": [
       "        Fecha Casos nuevos Casos totales Casos recuperados Fallecidos  \\\n",
       "1  2020-03-03            0             1                 0          0   \n",
       "2  2020-03-04            2             3                 0          0   \n",
       "3  2020-03-05            1             4                 0          0   \n",
       "4  2020-03-06            1             5                 0          0   \n",
       "5  2020-03-07            2             7                 0          0   \n",
       "\n",
       "  Casos activos  \n",
       "1             1  \n",
       "2             3  \n",
       "3             4  \n",
       "4             5  \n",
       "5             7  "
      ]
     },
     "execution_count": 4,
     "metadata": {},
     "output_type": "execute_result"
    }
   ],
   "source": [
    "df_Coronavirus_T.columns = ['Fecha', 'Casos nuevos', 'Casos totales', 'Casos recuperados', 'Fallecidos', 'Casos activos']\n",
    "df_Coronavirus_T = df_Coronavirus_T.drop([0], axis = 0)\n",
    "df_Coronavirus_T.head()"
   ]
  },
  {
   "cell_type": "markdown",
   "metadata": {},
   "source": [
    "Arreglamos el index"
   ]
  },
  {
   "cell_type": "code",
   "execution_count": 5,
   "metadata": {},
   "outputs": [
    {
     "data": {
      "text/html": [
       "<div>\n",
       "<style scoped>\n",
       "    .dataframe tbody tr th:only-of-type {\n",
       "        vertical-align: middle;\n",
       "    }\n",
       "\n",
       "    .dataframe tbody tr th {\n",
       "        vertical-align: top;\n",
       "    }\n",
       "\n",
       "    .dataframe thead th {\n",
       "        text-align: right;\n",
       "    }\n",
       "</style>\n",
       "<table border=\"1\" class=\"dataframe\">\n",
       "  <thead>\n",
       "    <tr style=\"text-align: right;\">\n",
       "      <th></th>\n",
       "      <th>Casos nuevos</th>\n",
       "      <th>Casos totales</th>\n",
       "      <th>Casos recuperados</th>\n",
       "      <th>Fallecidos</th>\n",
       "      <th>Casos activos</th>\n",
       "    </tr>\n",
       "    <tr>\n",
       "      <th>Fecha</th>\n",
       "      <th></th>\n",
       "      <th></th>\n",
       "      <th></th>\n",
       "      <th></th>\n",
       "      <th></th>\n",
       "    </tr>\n",
       "  </thead>\n",
       "  <tbody>\n",
       "    <tr>\n",
       "      <td>2020-03-03</td>\n",
       "      <td>0</td>\n",
       "      <td>1</td>\n",
       "      <td>0</td>\n",
       "      <td>0</td>\n",
       "      <td>1</td>\n",
       "    </tr>\n",
       "    <tr>\n",
       "      <td>2020-03-04</td>\n",
       "      <td>2</td>\n",
       "      <td>3</td>\n",
       "      <td>0</td>\n",
       "      <td>0</td>\n",
       "      <td>3</td>\n",
       "    </tr>\n",
       "    <tr>\n",
       "      <td>2020-03-05</td>\n",
       "      <td>1</td>\n",
       "      <td>4</td>\n",
       "      <td>0</td>\n",
       "      <td>0</td>\n",
       "      <td>4</td>\n",
       "    </tr>\n",
       "    <tr>\n",
       "      <td>2020-03-06</td>\n",
       "      <td>1</td>\n",
       "      <td>5</td>\n",
       "      <td>0</td>\n",
       "      <td>0</td>\n",
       "      <td>5</td>\n",
       "    </tr>\n",
       "    <tr>\n",
       "      <td>2020-03-07</td>\n",
       "      <td>2</td>\n",
       "      <td>7</td>\n",
       "      <td>0</td>\n",
       "      <td>0</td>\n",
       "      <td>7</td>\n",
       "    </tr>\n",
       "  </tbody>\n",
       "</table>\n",
       "</div>"
      ],
      "text/plain": [
       "           Casos nuevos Casos totales Casos recuperados Fallecidos  \\\n",
       "Fecha                                                                \n",
       "2020-03-03            0             1                 0          0   \n",
       "2020-03-04            2             3                 0          0   \n",
       "2020-03-05            1             4                 0          0   \n",
       "2020-03-06            1             5                 0          0   \n",
       "2020-03-07            2             7                 0          0   \n",
       "\n",
       "           Casos activos  \n",
       "Fecha                     \n",
       "2020-03-03             1  \n",
       "2020-03-04             3  \n",
       "2020-03-05             4  \n",
       "2020-03-06             5  \n",
       "2020-03-07             7  "
      ]
     },
     "execution_count": 5,
     "metadata": {},
     "output_type": "execute_result"
    }
   ],
   "source": [
    "df_Coronavirus_T = df_Coronavirus_T.set_index('Fecha')\n",
    "df_Coronavirus_T.head()"
   ]
  },
  {
   "cell_type": "code",
   "execution_count": 6,
   "metadata": {},
   "outputs": [
    {
     "data": {
      "text/plain": [
       "Index(['2020-03-03', '2020-03-04', '2020-03-05', '2020-03-06', '2020-03-07',\n",
       "       '2020-03-08', '2020-03-09', '2020-03-10', '2020-03-11', '2020-03-12',\n",
       "       '2020-03-13', '2020-03-14', '2020-03-15', '2020-03-16', '2020-03-17',\n",
       "       '2020-03-18', '2020-03-19', '2020-03-20', '2020-03-21', '2020-03-22',\n",
       "       '2020-03-23', '2020-03-24', '2020-03-25', '2020-03-26', '2020-03-27',\n",
       "       '2020-03-28', '2020-03-29', '2020-03-30', '2020-03-31', '2020-04-01',\n",
       "       '2020-04-02', '2020-04-03', '2020-04-04', '2020-04-05', '2020-04-06',\n",
       "       '2020-04-07', '2020-04-08', '2020-04-09', '2020-04-10', '2020-04-11',\n",
       "       '2020-04-12', '2020-04-13', '2020-04-14', '2020-04-15', '2020-04-16',\n",
       "       '2020-04-17', '2020-04-18', '2020-04-19', '2020-04-20', '2020-04-21',\n",
       "       '2020-04-22', '2020-04-23', '2020-04-24', '2020-04-25'],\n",
       "      dtype='object', name='Fecha')"
      ]
     },
     "execution_count": 6,
     "metadata": {},
     "output_type": "execute_result"
    }
   ],
   "source": [
    "df_Coronavirus_T.index"
   ]
  },
  {
   "cell_type": "markdown",
   "metadata": {},
   "source": [
    "Los index son solo del tipo object, es mejor dejarlos como de tipo fecha"
   ]
  },
  {
   "cell_type": "code",
   "execution_count": 7,
   "metadata": {},
   "outputs": [
    {
     "data": {
      "text/plain": [
       "DatetimeIndex(['2020-03-03', '2020-03-04', '2020-03-05', '2020-03-06',\n",
       "               '2020-03-07', '2020-03-08', '2020-03-09', '2020-03-10',\n",
       "               '2020-03-11', '2020-03-12', '2020-03-13', '2020-03-14',\n",
       "               '2020-03-15', '2020-03-16', '2020-03-17', '2020-03-18',\n",
       "               '2020-03-19', '2020-03-20', '2020-03-21', '2020-03-22',\n",
       "               '2020-03-23', '2020-03-24', '2020-03-25', '2020-03-26',\n",
       "               '2020-03-27', '2020-03-28', '2020-03-29', '2020-03-30',\n",
       "               '2020-03-31', '2020-04-01', '2020-04-02', '2020-04-03',\n",
       "               '2020-04-04', '2020-04-05', '2020-04-06', '2020-04-07',\n",
       "               '2020-04-08', '2020-04-09', '2020-04-10', '2020-04-11',\n",
       "               '2020-04-12', '2020-04-13', '2020-04-14', '2020-04-15',\n",
       "               '2020-04-16', '2020-04-17', '2020-04-18', '2020-04-19',\n",
       "               '2020-04-20', '2020-04-21', '2020-04-22', '2020-04-23',\n",
       "               '2020-04-24', '2020-04-25'],\n",
       "              dtype='datetime64[ns]', name='Fecha', freq=None)"
      ]
     },
     "execution_count": 7,
     "metadata": {},
     "output_type": "execute_result"
    }
   ],
   "source": [
    "df_Coronavirus_T.index = pd.to_datetime(df_Coronavirus_T.index, format = '%Y/%m/%d')\n",
    "df_Coronavirus_T.index"
   ]
  },
  {
   "cell_type": "markdown",
   "metadata": {},
   "source": [
    "Listo!"
   ]
  },
  {
   "cell_type": "code",
   "execution_count": 8,
   "metadata": {},
   "outputs": [
    {
     "data": {
      "text/plain": [
       "(54, 5)"
      ]
     },
     "execution_count": 8,
     "metadata": {},
     "output_type": "execute_result"
    }
   ],
   "source": [
    "df_Coronavirus_T.shape"
   ]
  },
  {
   "cell_type": "code",
   "execution_count": 9,
   "metadata": {},
   "outputs": [
    {
     "data": {
      "text/plain": [
       "Casos nuevos         0\n",
       "Casos totales        0\n",
       "Casos recuperados    0\n",
       "Fallecidos           0\n",
       "Casos activos        0\n",
       "dtype: int64"
      ]
     },
     "execution_count": 9,
     "metadata": {},
     "output_type": "execute_result"
    }
   ],
   "source": [
    "df_Coronavirus_T.isnull().sum()"
   ]
  },
  {
   "cell_type": "code",
   "execution_count": 10,
   "metadata": {},
   "outputs": [
    {
     "data": {
      "text/html": [
       "<div>\n",
       "<style scoped>\n",
       "    .dataframe tbody tr th:only-of-type {\n",
       "        vertical-align: middle;\n",
       "    }\n",
       "\n",
       "    .dataframe tbody tr th {\n",
       "        vertical-align: top;\n",
       "    }\n",
       "\n",
       "    .dataframe thead th {\n",
       "        text-align: right;\n",
       "    }\n",
       "</style>\n",
       "<table border=\"1\" class=\"dataframe\">\n",
       "  <thead>\n",
       "    <tr style=\"text-align: right;\">\n",
       "      <th></th>\n",
       "      <th>Casos nuevos</th>\n",
       "      <th>Casos totales</th>\n",
       "      <th>Casos recuperados</th>\n",
       "      <th>Fallecidos</th>\n",
       "      <th>Casos activos</th>\n",
       "    </tr>\n",
       "    <tr>\n",
       "      <th>Fecha</th>\n",
       "      <th></th>\n",
       "      <th></th>\n",
       "      <th></th>\n",
       "      <th></th>\n",
       "      <th></th>\n",
       "    </tr>\n",
       "  </thead>\n",
       "  <tbody>\n",
       "    <tr>\n",
       "      <td>2020-03-03</td>\n",
       "      <td>0</td>\n",
       "      <td>1</td>\n",
       "      <td>0</td>\n",
       "      <td>0</td>\n",
       "      <td>1</td>\n",
       "    </tr>\n",
       "    <tr>\n",
       "      <td>2020-03-04</td>\n",
       "      <td>2</td>\n",
       "      <td>3</td>\n",
       "      <td>0</td>\n",
       "      <td>0</td>\n",
       "      <td>3</td>\n",
       "    </tr>\n",
       "    <tr>\n",
       "      <td>2020-03-05</td>\n",
       "      <td>1</td>\n",
       "      <td>4</td>\n",
       "      <td>0</td>\n",
       "      <td>0</td>\n",
       "      <td>4</td>\n",
       "    </tr>\n",
       "    <tr>\n",
       "      <td>2020-03-06</td>\n",
       "      <td>1</td>\n",
       "      <td>5</td>\n",
       "      <td>0</td>\n",
       "      <td>0</td>\n",
       "      <td>5</td>\n",
       "    </tr>\n",
       "    <tr>\n",
       "      <td>2020-03-07</td>\n",
       "      <td>2</td>\n",
       "      <td>7</td>\n",
       "      <td>0</td>\n",
       "      <td>0</td>\n",
       "      <td>7</td>\n",
       "    </tr>\n",
       "    <tr>\n",
       "      <td>2020-03-08</td>\n",
       "      <td>3</td>\n",
       "      <td>10</td>\n",
       "      <td>0</td>\n",
       "      <td>0</td>\n",
       "      <td>10</td>\n",
       "    </tr>\n",
       "    <tr>\n",
       "      <td>2020-03-09</td>\n",
       "      <td>5</td>\n",
       "      <td>15</td>\n",
       "      <td>0</td>\n",
       "      <td>0</td>\n",
       "      <td>15</td>\n",
       "    </tr>\n",
       "    <tr>\n",
       "      <td>2020-03-10</td>\n",
       "      <td>2</td>\n",
       "      <td>17</td>\n",
       "      <td>0</td>\n",
       "      <td>0</td>\n",
       "      <td>17</td>\n",
       "    </tr>\n",
       "    <tr>\n",
       "      <td>2020-03-11</td>\n",
       "      <td>6</td>\n",
       "      <td>23</td>\n",
       "      <td>0</td>\n",
       "      <td>0</td>\n",
       "      <td>23</td>\n",
       "    </tr>\n",
       "    <tr>\n",
       "      <td>2020-03-12</td>\n",
       "      <td>10</td>\n",
       "      <td>33</td>\n",
       "      <td>0</td>\n",
       "      <td>0</td>\n",
       "      <td>33</td>\n",
       "    </tr>\n",
       "    <tr>\n",
       "      <td>2020-03-13</td>\n",
       "      <td>10</td>\n",
       "      <td>43</td>\n",
       "      <td>0</td>\n",
       "      <td>0</td>\n",
       "      <td>43</td>\n",
       "    </tr>\n",
       "    <tr>\n",
       "      <td>2020-03-14</td>\n",
       "      <td>18</td>\n",
       "      <td>61</td>\n",
       "      <td>0</td>\n",
       "      <td>0</td>\n",
       "      <td>61</td>\n",
       "    </tr>\n",
       "    <tr>\n",
       "      <td>2020-03-15</td>\n",
       "      <td>14</td>\n",
       "      <td>75</td>\n",
       "      <td>0</td>\n",
       "      <td>0</td>\n",
       "      <td>75</td>\n",
       "    </tr>\n",
       "    <tr>\n",
       "      <td>2020-03-16</td>\n",
       "      <td>81</td>\n",
       "      <td>156</td>\n",
       "      <td>0</td>\n",
       "      <td>0</td>\n",
       "      <td>156</td>\n",
       "    </tr>\n",
       "    <tr>\n",
       "      <td>2020-03-17</td>\n",
       "      <td>45</td>\n",
       "      <td>201</td>\n",
       "      <td>1</td>\n",
       "      <td>0</td>\n",
       "      <td>200</td>\n",
       "    </tr>\n",
       "    <tr>\n",
       "      <td>2020-03-18</td>\n",
       "      <td>37</td>\n",
       "      <td>238</td>\n",
       "      <td>3</td>\n",
       "      <td>0</td>\n",
       "      <td>235</td>\n",
       "    </tr>\n",
       "    <tr>\n",
       "      <td>2020-03-19</td>\n",
       "      <td>104</td>\n",
       "      <td>342</td>\n",
       "      <td>4</td>\n",
       "      <td>0</td>\n",
       "      <td>338</td>\n",
       "    </tr>\n",
       "    <tr>\n",
       "      <td>2020-03-20</td>\n",
       "      <td>92</td>\n",
       "      <td>434</td>\n",
       "      <td>5</td>\n",
       "      <td>0</td>\n",
       "      <td>429</td>\n",
       "    </tr>\n",
       "    <tr>\n",
       "      <td>2020-03-21</td>\n",
       "      <td>103</td>\n",
       "      <td>537</td>\n",
       "      <td>6</td>\n",
       "      <td>0</td>\n",
       "      <td>531</td>\n",
       "    </tr>\n",
       "    <tr>\n",
       "      <td>2020-03-22</td>\n",
       "      <td>95</td>\n",
       "      <td>632</td>\n",
       "      <td>8</td>\n",
       "      <td>1</td>\n",
       "      <td>623</td>\n",
       "    </tr>\n",
       "    <tr>\n",
       "      <td>2020-03-23</td>\n",
       "      <td>114</td>\n",
       "      <td>746</td>\n",
       "      <td>11</td>\n",
       "      <td>1</td>\n",
       "      <td>734</td>\n",
       "    </tr>\n",
       "    <tr>\n",
       "      <td>2020-03-24</td>\n",
       "      <td>176</td>\n",
       "      <td>922</td>\n",
       "      <td>17</td>\n",
       "      <td>2</td>\n",
       "      <td>903</td>\n",
       "    </tr>\n",
       "    <tr>\n",
       "      <td>2020-03-25</td>\n",
       "      <td>220</td>\n",
       "      <td>1142</td>\n",
       "      <td>22</td>\n",
       "      <td>3</td>\n",
       "      <td>1117</td>\n",
       "    </tr>\n",
       "    <tr>\n",
       "      <td>2020-03-26</td>\n",
       "      <td>164</td>\n",
       "      <td>1306</td>\n",
       "      <td>33</td>\n",
       "      <td>4</td>\n",
       "      <td>1269</td>\n",
       "    </tr>\n",
       "    <tr>\n",
       "      <td>2020-03-27</td>\n",
       "      <td>304</td>\n",
       "      <td>1610</td>\n",
       "      <td>43</td>\n",
       "      <td>5</td>\n",
       "      <td>1562</td>\n",
       "    </tr>\n",
       "    <tr>\n",
       "      <td>2020-03-28</td>\n",
       "      <td>299</td>\n",
       "      <td>1909</td>\n",
       "      <td>61</td>\n",
       "      <td>6</td>\n",
       "      <td>1842</td>\n",
       "    </tr>\n",
       "    <tr>\n",
       "      <td>2020-03-29</td>\n",
       "      <td>230</td>\n",
       "      <td>2139</td>\n",
       "      <td>75</td>\n",
       "      <td>7</td>\n",
       "      <td>2057</td>\n",
       "    </tr>\n",
       "    <tr>\n",
       "      <td>2020-03-30</td>\n",
       "      <td>310</td>\n",
       "      <td>2449</td>\n",
       "      <td>156</td>\n",
       "      <td>8</td>\n",
       "      <td>2285</td>\n",
       "    </tr>\n",
       "    <tr>\n",
       "      <td>2020-03-31</td>\n",
       "      <td>289</td>\n",
       "      <td>2738</td>\n",
       "      <td>201</td>\n",
       "      <td>12</td>\n",
       "      <td>2525</td>\n",
       "    </tr>\n",
       "    <tr>\n",
       "      <td>2020-04-01</td>\n",
       "      <td>293</td>\n",
       "      <td>3031</td>\n",
       "      <td>234</td>\n",
       "      <td>16</td>\n",
       "      <td>2781</td>\n",
       "    </tr>\n",
       "    <tr>\n",
       "      <td>2020-04-02</td>\n",
       "      <td>373</td>\n",
       "      <td>3404</td>\n",
       "      <td>335</td>\n",
       "      <td>18</td>\n",
       "      <td>3051</td>\n",
       "    </tr>\n",
       "    <tr>\n",
       "      <td>2020-04-03</td>\n",
       "      <td>333</td>\n",
       "      <td>3737</td>\n",
       "      <td>427</td>\n",
       "      <td>22</td>\n",
       "      <td>3288</td>\n",
       "    </tr>\n",
       "    <tr>\n",
       "      <td>2020-04-04</td>\n",
       "      <td>424</td>\n",
       "      <td>4161</td>\n",
       "      <td>528</td>\n",
       "      <td>27</td>\n",
       "      <td>3606</td>\n",
       "    </tr>\n",
       "    <tr>\n",
       "      <td>2020-04-05</td>\n",
       "      <td>310</td>\n",
       "      <td>4471</td>\n",
       "      <td>617</td>\n",
       "      <td>34</td>\n",
       "      <td>3820</td>\n",
       "    </tr>\n",
       "    <tr>\n",
       "      <td>2020-04-06</td>\n",
       "      <td>344</td>\n",
       "      <td>4815</td>\n",
       "      <td>728</td>\n",
       "      <td>37</td>\n",
       "      <td>4050</td>\n",
       "    </tr>\n",
       "    <tr>\n",
       "      <td>2020-04-07</td>\n",
       "      <td>301</td>\n",
       "      <td>5116</td>\n",
       "      <td>898</td>\n",
       "      <td>43</td>\n",
       "      <td>4175</td>\n",
       "    </tr>\n",
       "    <tr>\n",
       "      <td>2020-04-08</td>\n",
       "      <td>430</td>\n",
       "      <td>5546</td>\n",
       "      <td>1115</td>\n",
       "      <td>48</td>\n",
       "      <td>4383</td>\n",
       "    </tr>\n",
       "    <tr>\n",
       "      <td>2020-04-09</td>\n",
       "      <td>426</td>\n",
       "      <td>5972</td>\n",
       "      <td>1274</td>\n",
       "      <td>57</td>\n",
       "      <td>4641</td>\n",
       "    </tr>\n",
       "    <tr>\n",
       "      <td>2020-04-10</td>\n",
       "      <td>529</td>\n",
       "      <td>6501</td>\n",
       "      <td>1571</td>\n",
       "      <td>65</td>\n",
       "      <td>4865</td>\n",
       "    </tr>\n",
       "    <tr>\n",
       "      <td>2020-04-11</td>\n",
       "      <td>426</td>\n",
       "      <td>6927</td>\n",
       "      <td>1864</td>\n",
       "      <td>73</td>\n",
       "      <td>4990</td>\n",
       "    </tr>\n",
       "    <tr>\n",
       "      <td>2020-04-12</td>\n",
       "      <td>286</td>\n",
       "      <td>7213</td>\n",
       "      <td>2059</td>\n",
       "      <td>80</td>\n",
       "      <td>5074</td>\n",
       "    </tr>\n",
       "    <tr>\n",
       "      <td>2020-04-13</td>\n",
       "      <td>312</td>\n",
       "      <td>7525</td>\n",
       "      <td>2367</td>\n",
       "      <td>82</td>\n",
       "      <td>5076</td>\n",
       "    </tr>\n",
       "    <tr>\n",
       "      <td>2020-04-14</td>\n",
       "      <td>392</td>\n",
       "      <td>7917</td>\n",
       "      <td>2646</td>\n",
       "      <td>92</td>\n",
       "      <td>5179</td>\n",
       "    </tr>\n",
       "    <tr>\n",
       "      <td>2020-04-15</td>\n",
       "      <td>356</td>\n",
       "      <td>8273</td>\n",
       "      <td>2937</td>\n",
       "      <td>94</td>\n",
       "      <td>5242</td>\n",
       "    </tr>\n",
       "    <tr>\n",
       "      <td>2020-04-16</td>\n",
       "      <td>534</td>\n",
       "      <td>8807</td>\n",
       "      <td>3299</td>\n",
       "      <td>105</td>\n",
       "      <td>5403</td>\n",
       "    </tr>\n",
       "    <tr>\n",
       "      <td>2020-04-17</td>\n",
       "      <td>445</td>\n",
       "      <td>9252</td>\n",
       "      <td>3621</td>\n",
       "      <td>116</td>\n",
       "      <td>5515</td>\n",
       "    </tr>\n",
       "    <tr>\n",
       "      <td>2020-04-18</td>\n",
       "      <td>478</td>\n",
       "      <td>9730</td>\n",
       "      <td>4035</td>\n",
       "      <td>126</td>\n",
       "      <td>5569</td>\n",
       "    </tr>\n",
       "    <tr>\n",
       "      <td>2020-04-19</td>\n",
       "      <td>358</td>\n",
       "      <td>10088</td>\n",
       "      <td>4338</td>\n",
       "      <td>133</td>\n",
       "      <td>5617</td>\n",
       "    </tr>\n",
       "    <tr>\n",
       "      <td>2020-04-20</td>\n",
       "      <td>419</td>\n",
       "      <td>10507</td>\n",
       "      <td>4676</td>\n",
       "      <td>139</td>\n",
       "      <td>5692</td>\n",
       "    </tr>\n",
       "    <tr>\n",
       "      <td>2020-04-21</td>\n",
       "      <td>325</td>\n",
       "      <td>10832</td>\n",
       "      <td>4969</td>\n",
       "      <td>147</td>\n",
       "      <td>5716</td>\n",
       "    </tr>\n",
       "    <tr>\n",
       "      <td>2020-04-22</td>\n",
       "      <td>464</td>\n",
       "      <td>11296</td>\n",
       "      <td>5386</td>\n",
       "      <td>160</td>\n",
       "      <td>5750</td>\n",
       "    </tr>\n",
       "    <tr>\n",
       "      <td>2020-04-23</td>\n",
       "      <td>516</td>\n",
       "      <td>11812</td>\n",
       "      <td>5804</td>\n",
       "      <td>168</td>\n",
       "      <td>5840</td>\n",
       "    </tr>\n",
       "    <tr>\n",
       "      <td>2020-04-24</td>\n",
       "      <td>494</td>\n",
       "      <td>12306</td>\n",
       "      <td>6327</td>\n",
       "      <td>174</td>\n",
       "      <td>5805</td>\n",
       "    </tr>\n",
       "    <tr>\n",
       "      <td>2020-04-25</td>\n",
       "      <td>552</td>\n",
       "      <td>12858</td>\n",
       "      <td>6746</td>\n",
       "      <td>181</td>\n",
       "      <td>5931</td>\n",
       "    </tr>\n",
       "  </tbody>\n",
       "</table>\n",
       "</div>"
      ],
      "text/plain": [
       "           Casos nuevos Casos totales Casos recuperados Fallecidos  \\\n",
       "Fecha                                                                \n",
       "2020-03-03            0             1                 0          0   \n",
       "2020-03-04            2             3                 0          0   \n",
       "2020-03-05            1             4                 0          0   \n",
       "2020-03-06            1             5                 0          0   \n",
       "2020-03-07            2             7                 0          0   \n",
       "2020-03-08            3            10                 0          0   \n",
       "2020-03-09            5            15                 0          0   \n",
       "2020-03-10            2            17                 0          0   \n",
       "2020-03-11            6            23                 0          0   \n",
       "2020-03-12           10            33                 0          0   \n",
       "2020-03-13           10            43                 0          0   \n",
       "2020-03-14           18            61                 0          0   \n",
       "2020-03-15           14            75                 0          0   \n",
       "2020-03-16           81           156                 0          0   \n",
       "2020-03-17           45           201                 1          0   \n",
       "2020-03-18           37           238                 3          0   \n",
       "2020-03-19          104           342                 4          0   \n",
       "2020-03-20           92           434                 5          0   \n",
       "2020-03-21          103           537                 6          0   \n",
       "2020-03-22           95           632                 8          1   \n",
       "2020-03-23          114           746                11          1   \n",
       "2020-03-24          176           922                17          2   \n",
       "2020-03-25          220          1142                22          3   \n",
       "2020-03-26          164          1306                33          4   \n",
       "2020-03-27          304          1610                43          5   \n",
       "2020-03-28          299          1909                61          6   \n",
       "2020-03-29          230          2139                75          7   \n",
       "2020-03-30          310          2449               156          8   \n",
       "2020-03-31          289          2738               201         12   \n",
       "2020-04-01          293          3031               234         16   \n",
       "2020-04-02          373          3404               335         18   \n",
       "2020-04-03          333          3737               427         22   \n",
       "2020-04-04          424          4161               528         27   \n",
       "2020-04-05          310          4471               617         34   \n",
       "2020-04-06          344          4815               728         37   \n",
       "2020-04-07          301          5116               898         43   \n",
       "2020-04-08          430          5546              1115         48   \n",
       "2020-04-09          426          5972              1274         57   \n",
       "2020-04-10          529          6501              1571         65   \n",
       "2020-04-11          426          6927              1864         73   \n",
       "2020-04-12          286          7213              2059         80   \n",
       "2020-04-13          312          7525              2367         82   \n",
       "2020-04-14          392          7917              2646         92   \n",
       "2020-04-15          356          8273              2937         94   \n",
       "2020-04-16          534          8807              3299        105   \n",
       "2020-04-17          445          9252              3621        116   \n",
       "2020-04-18          478          9730              4035        126   \n",
       "2020-04-19          358         10088              4338        133   \n",
       "2020-04-20          419         10507              4676        139   \n",
       "2020-04-21          325         10832              4969        147   \n",
       "2020-04-22          464         11296              5386        160   \n",
       "2020-04-23          516         11812              5804        168   \n",
       "2020-04-24          494         12306              6327        174   \n",
       "2020-04-25          552         12858              6746        181   \n",
       "\n",
       "           Casos activos  \n",
       "Fecha                     \n",
       "2020-03-03             1  \n",
       "2020-03-04             3  \n",
       "2020-03-05             4  \n",
       "2020-03-06             5  \n",
       "2020-03-07             7  \n",
       "2020-03-08            10  \n",
       "2020-03-09            15  \n",
       "2020-03-10            17  \n",
       "2020-03-11            23  \n",
       "2020-03-12            33  \n",
       "2020-03-13            43  \n",
       "2020-03-14            61  \n",
       "2020-03-15            75  \n",
       "2020-03-16           156  \n",
       "2020-03-17           200  \n",
       "2020-03-18           235  \n",
       "2020-03-19           338  \n",
       "2020-03-20           429  \n",
       "2020-03-21           531  \n",
       "2020-03-22           623  \n",
       "2020-03-23           734  \n",
       "2020-03-24           903  \n",
       "2020-03-25          1117  \n",
       "2020-03-26          1269  \n",
       "2020-03-27          1562  \n",
       "2020-03-28          1842  \n",
       "2020-03-29          2057  \n",
       "2020-03-30          2285  \n",
       "2020-03-31          2525  \n",
       "2020-04-01          2781  \n",
       "2020-04-02          3051  \n",
       "2020-04-03          3288  \n",
       "2020-04-04          3606  \n",
       "2020-04-05          3820  \n",
       "2020-04-06          4050  \n",
       "2020-04-07          4175  \n",
       "2020-04-08          4383  \n",
       "2020-04-09          4641  \n",
       "2020-04-10          4865  \n",
       "2020-04-11          4990  \n",
       "2020-04-12          5074  \n",
       "2020-04-13          5076  \n",
       "2020-04-14          5179  \n",
       "2020-04-15          5242  \n",
       "2020-04-16          5403  \n",
       "2020-04-17          5515  \n",
       "2020-04-18          5569  \n",
       "2020-04-19          5617  \n",
       "2020-04-20          5692  \n",
       "2020-04-21          5716  \n",
       "2020-04-22          5750  \n",
       "2020-04-23          5840  \n",
       "2020-04-24          5805  \n",
       "2020-04-25          5931  "
      ]
     },
     "execution_count": 10,
     "metadata": {},
     "output_type": "execute_result"
    }
   ],
   "source": [
    "df_Coronavirus_T"
   ]
  },
  {
   "cell_type": "markdown",
   "metadata": {},
   "source": [
    "# Estadísticas y gráficas"
   ]
  },
  {
   "cell_type": "markdown",
   "metadata": {},
   "source": [
    "Graficamos la curva de casos totales"
   ]
  },
  {
   "cell_type": "code",
   "execution_count": 11,
   "metadata": {},
   "outputs": [
    {
     "data": {
      "text/plain": [
       "<matplotlib.axes._subplots.AxesSubplot at 0x1a6c334c608>"
      ]
     },
     "execution_count": 11,
     "metadata": {},
     "output_type": "execute_result"
    },
    {
     "data": {
      "image/png": "[encoded data removed]",
      "text/plain": [
       "<Figure size 432x288 with 1 Axes>"
      ]
     },
     "metadata": {
      "needs_background": "light"
     },
     "output_type": "display_data"
    }
   ],
   "source": [
    "df_Coronavirus_T['Casos totales'].plot()"
   ]
  },
  {
   "cell_type": "markdown",
   "metadata": {},
   "source": [
    "Obtenemos la media y desviación estándar móvil para graficarlas junto con la curva de casos totales. Usaremos una ventana de 5 días"
   ]
  },
  {
   "cell_type": "code",
   "execution_count": 12,
   "metadata": {},
   "outputs": [],
   "source": [
    "rolling_mean = df_Coronavirus_T['Casos totales'].rolling(5).mean()\n",
    "rolling_std = df_Coronavirus_T['Casos totales'].rolling(5).std()"
   ]
  },
  {
   "cell_type": "code",
   "execution_count": 13,
   "metadata": {},
   "outputs": [
    {
     "data": {
      "text/plain": [
       "<matplotlib.legend.Legend at 0x1a6c37ce2c8>"
      ]
     },
     "execution_count": 13,
     "metadata": {},
     "output_type": "execute_result"
    },
    {
     "data": {
      "image/png": "[encoded data removed]",
      "text/plain": [
       "<Figure size 1728x720 with 1 Axes>"
      ]
     },
     "metadata": {
      "needs_background": "light"
     },
     "output_type": "display_data"
    }
   ],
   "source": [
    "plt.figure(figsize = (24, 10))\n",
    "df_Coronavirus_T['Casos totales'].plot(label = 'casos totales')\n",
    "rolling_mean.plot(label = 'mean')\n",
    "rolling_std.plot(label = 'std')\n",
    "plt.legend()"
   ]
  },
  {
   "cell_type": "markdown",
   "metadata": {},
   "source": [
    "Test Adfuller"
   ]
  },
  {
   "cell_type": "code",
   "execution_count": 14,
   "metadata": {},
   "outputs": [
    {
     "data": {
      "text/html": [
       "<div>\n",
       "<style scoped>\n",
       "    .dataframe tbody tr th:only-of-type {\n",
       "        vertical-align: middle;\n",
       "    }\n",
       "\n",
       "    .dataframe tbody tr th {\n",
       "        vertical-align: top;\n",
       "    }\n",
       "\n",
       "    .dataframe thead th {\n",
       "        text-align: right;\n",
       "    }\n",
       "</style>\n",
       "<table border=\"1\" class=\"dataframe\">\n",
       "  <thead>\n",
       "    <tr style=\"text-align: right;\">\n",
       "      <th></th>\n",
       "      <th>Test estadístico</th>\n",
       "      <th>P-Value</th>\n",
       "      <th>usedlag</th>\n",
       "    </tr>\n",
       "  </thead>\n",
       "  <tbody>\n",
       "    <tr>\n",
       "      <td>0</td>\n",
       "      <td>-0.853547</td>\n",
       "      <td>0.802885</td>\n",
       "      <td>6</td>\n",
       "    </tr>\n",
       "  </tbody>\n",
       "</table>\n",
       "</div>"
      ],
      "text/plain": [
       "   Test estadístico   P-Value  usedlag\n",
       "0         -0.853547  0.802885        6"
      ]
     },
     "execution_count": 14,
     "metadata": {},
     "output_type": "execute_result"
    }
   ],
   "source": [
    "df_adftest = adfuller(df_Coronavirus_T['Casos totales'], autolag = 'AIC')\n",
    "df_adftest = pd.DataFrame({'Test estadístico': [df_adftest[0]], 'P-Value': [df_adftest[1]], 'usedlag': [df_adftest[2]]})\n",
    "df_adftest"
   ]
  },
  {
   "cell_type": "markdown",
   "metadata": {},
   "source": [
    "P-Value es mayor que que 0.05, y las graficas anteriores demuestran lo obvio: la función no es estacionaria (muy claramente), por lo que se necesitará diferenciación (d>0)"
   ]
  },
  {
   "cell_type": "markdown",
   "metadata": {},
   "source": [
    "Ploteando ACF y PACF"
   ]
  },
  {
   "cell_type": "code",
   "execution_count": 15,
   "metadata": {},
   "outputs": [
    {
     "data": {
      "image/png": "[encoded data removed]",
      "text/plain": [
       "<Figure size 432x288 with 1 Axes>"
      ]
     },
     "metadata": {
      "needs_background": "light"
     },
     "output_type": "display_data"
    },
    {
     "data": {
      "image/png": "[encoded data removed]",
      "text/plain": [
       "<Figure size 432x288 with 1 Axes>"
      ]
     },
     "metadata": {
      "needs_background": "light"
     },
     "output_type": "display_data"
    },
    {
     "data": {
      "image/png": "[encoded data removed]",
      "text/plain": [
       "<Figure size 432x288 with 1 Axes>"
      ]
     },
     "metadata": {
      "needs_background": "light"
     },
     "output_type": "display_data"
    }
   ],
   "source": [
    "plot_acf(df_Coronavirus_T['Casos totales'].astype(float))\n",
    "plot_acf(df_Coronavirus_T['Casos totales'].diff().dropna().astype(float))\n",
    "plot_acf(df_Coronavirus_T['Casos totales'].diff().diff().dropna().astype(float))\n",
    "plt.show()"
   ]
  },
  {
   "cell_type": "markdown",
   "metadata": {},
   "source": [
    "La serie se hace estacionaria en la segunda diferenciación, por lo que d = 2, donde el primer lag toma relevancia, q = 1"
   ]
  },
  {
   "cell_type": "code",
   "execution_count": 16,
   "metadata": {},
   "outputs": [
    {
     "data": {
      "image/png": "[encoded data removed]",
      "text/plain": [
       "<Figure size 432x288 with 1 Axes>"
      ]
     },
     "metadata": {
      "needs_background": "light"
     },
     "output_type": "display_data"
    }
   ],
   "source": [
    "plot_pacf(df_Coronavirus_T['Casos totales'].diff().diff().dropna(), lags = 20)\n",
    "plt.show()"
   ]
  },
  {
   "cell_type": "markdown",
   "metadata": {},
   "source": [
    "Al usar la segunda diferenciación para plotear PACF, se observa que el primer lag tiene una gran relevancia, por lo que p = 1"
   ]
  },
  {
   "cell_type": "markdown",
   "metadata": {},
   "source": [
    "# Modelando "
   ]
  },
  {
   "cell_type": "code",
   "execution_count": 17,
   "metadata": {},
   "outputs": [
    {
     "name": "stderr",
     "output_type": "stream",
     "text": [
      "C:\\Users\\gerso\\Anaconda3\\lib\\site-packages\\statsmodels\\tsa\\base\\tsa_model.py:165: ValueWarning: No frequency information was provided, so inferred frequency D will be used.\n",
      "  % freq, ValueWarning)\n",
      "C:\\Users\\gerso\\Anaconda3\\lib\\site-packages\\statsmodels\\tsa\\base\\tsa_model.py:165: ValueWarning: No frequency information was provided, so inferred frequency D will be used.\n",
      "  % freq, ValueWarning)\n"
     ]
    }
   ],
   "source": [
    "modelo = sm.tsa.ARIMA(df_Coronavirus_T['Casos totales'].astype(float), order=(1,2,1))\n",
    "modelo_fit = modelo.fit(disp = -1)"
   ]
  },
  {
   "cell_type": "code",
   "execution_count": 18,
   "metadata": {},
   "outputs": [
    {
     "data": {
      "text/plain": [
       "0    13388.911047\n",
       "1    13922.089732\n",
       "2    14463.560004\n",
       "3    15014.875511\n",
       "4    15576.436958\n",
       "5    16148.347691\n",
       "6    16730.634366\n",
       "dtype: float64"
      ]
     },
     "execution_count": 18,
     "metadata": {},
     "output_type": "execute_result"
    }
   ],
   "source": [
    "forecast = modelo_fit.forecast(7)\n",
    "forecast_serie = pd.Series(forecast[0])\n",
    "forecast_serie"
   ]
  },
  {
   "cell_type": "code",
   "execution_count": 19,
   "metadata": {},
   "outputs": [
    {
     "data": {
      "text/plain": [
       "DatetimeIndex(['2020-04-26', '2020-04-27', '2020-04-28', '2020-04-29',\n",
       "               '2020-04-30', '2020-05-01', '2020-05-02'],\n",
       "              dtype='datetime64[ns]', freq=None)"
      ]
     },
     "execution_count": 19,
     "metadata": {},
     "output_type": "execute_result"
    }
   ],
   "source": [
    "lastIndex = df_Coronavirus_T.index[len(df_Coronavirus_T.index) - 1]\n",
    "day = 1\n",
    "dateForIndex = []\n",
    "for day in range(7):\n",
    "    day = day + 1\n",
    "    dateForIndex.append(lastIndex + timedelta(days= day))\n",
    "dateForIndex\n",
    "lastIndex\n",
    "forecast_serie.index = dateForIndex\n",
    "forecast_serie.index"
   ]
  },
  {
   "cell_type": "code",
   "execution_count": 20,
   "metadata": {},
   "outputs": [
    {
     "data": {
      "text/plain": [
       "2020-04-26    13388.911047\n",
       "2020-04-27    13922.089732\n",
       "2020-04-28    14463.560004\n",
       "2020-04-29    15014.875511\n",
       "2020-04-30    15576.436958\n",
       "2020-05-01    16148.347691\n",
       "2020-05-02    16730.634366\n",
       "dtype: float64"
      ]
     },
     "execution_count": 20,
     "metadata": {},
     "output_type": "execute_result"
    }
   ],
   "source": [
    "forecast_serie"
   ]
  },
  {
   "cell_type": "code",
   "execution_count": 21,
   "metadata": {},
   "outputs": [
    {
     "data": {
      "text/plain": [
       "<matplotlib.legend.Legend at 0x1a6c37ad448>"
      ]
     },
     "execution_count": 21,
     "metadata": {},
     "output_type": "execute_result"
    },
    {
     "data": {
      "image/png": "[encoded data removed]",
      "text/plain": [
       "<Figure size 1728x720 with 1 Axes>"
      ]
     },
     "metadata": {
      "needs_background": "light"
     },
     "output_type": "display_data"
    }
   ],
   "source": [
    "plt.figure(figsize = (24, 10))\n",
    "plt.plot(df_Coronavirus_T['Casos totales'], label = 'Casos totales')\n",
    "plt.plot(forecast_serie, label = 'prediccion')\n",
    "#plt.xlim('2020-04-15', '2020-04-20')\n",
    "plt.plot()\n",
    "plt.legend()"
   ]
  },
  {
   "cell_type": "code",
   "execution_count": 22,
   "metadata": {},
   "outputs": [
    {
     "data": {
      "image/png": "[encoded data removed]",
      "text/plain": [
       "<Figure size 432x288 with 1 Axes>"
      ]
     },
     "metadata": {
      "needs_background": "light"
     },
     "output_type": "display_data"
    }
   ],
   "source": [
    "fig = modelo_fit.plot_predict(40, 61)"
   ]
  },
  {
   "cell_type": "code",
   "execution_count": 23,
   "metadata": {},
   "outputs": [
    {
     "data": {
      "text/html": [
       "<table class=\"simpletable\">\n",
       "<caption>ARIMA Model Results</caption>\n",
       "<tr>\n",
       "  <th>Dep. Variable:</th> <td>D2.Casos totales</td> <th>  No. Observations:  </th>    <td>52</td>   \n",
       "</tr>\n",
       "<tr>\n",
       "  <th>Model:</th>          <td>ARIMA(1, 2, 1)</td>  <th>  Log Likelihood     </th> <td>-285.614</td>\n",
       "</tr>\n",
       "<tr>\n",
       "  <th>Method:</th>             <td>css-mle</td>     <th>  S.D. of innovations</th>  <td>58.380</td> \n",
       "</tr>\n",
       "<tr>\n",
       "  <th>Date:</th>          <td>Sat, 25 Apr 2020</td> <th>  AIC                </th>  <td>579.229</td>\n",
       "</tr>\n",
       "<tr>\n",
       "  <th>Time:</th>              <td>15:03:39</td>     <th>  BIC                </th>  <td>587.034</td>\n",
       "</tr>\n",
       "<tr>\n",
       "  <th>Sample:</th>           <td>03-05-2020</td>    <th>  HQIC               </th>  <td>582.221</td>\n",
       "</tr>\n",
       "<tr>\n",
       "  <th></th>                 <td>- 04-25-2020</td>   <th>                     </th>     <td> </td>   \n",
       "</tr>\n",
       "</table>\n",
       "<table class=\"simpletable\">\n",
       "<tr>\n",
       "             <td></td>               <th>coef</th>     <th>std err</th>      <th>z</th>      <th>P>|z|</th>  <th>[0.025</th>    <th>0.975]</th>  \n",
       "</tr>\n",
       "<tr>\n",
       "  <th>const</th>                  <td>   10.3852</td> <td>    2.227</td> <td>    4.662</td> <td> 0.000</td> <td>    6.019</td> <td>   14.751</td>\n",
       "</tr>\n",
       "<tr>\n",
       "  <th>ar.L1.D2.Casos totales</th> <td>    0.2579</td> <td>    0.229</td> <td>    1.124</td> <td> 0.266</td> <td>   -0.192</td> <td>    0.708</td>\n",
       "</tr>\n",
       "<tr>\n",
       "  <th>ma.L1.D2.Casos totales</th> <td>   -0.8162</td> <td>    0.163</td> <td>   -4.997</td> <td> 0.000</td> <td>   -1.136</td> <td>   -0.496</td>\n",
       "</tr>\n",
       "</table>\n",
       "<table class=\"simpletable\">\n",
       "<caption>Roots</caption>\n",
       "<tr>\n",
       "    <td></td>   <th>            Real</th>  <th>         Imaginary</th> <th>         Modulus</th>  <th>        Frequency</th>\n",
       "</tr>\n",
       "<tr>\n",
       "  <th>AR.1</th> <td>           3.8773</td> <td>          +0.0000j</td> <td>           3.8773</td> <td>           0.0000</td>\n",
       "</tr>\n",
       "<tr>\n",
       "  <th>MA.1</th> <td>           1.2253</td> <td>          +0.0000j</td> <td>           1.2253</td> <td>           0.0000</td>\n",
       "</tr>\n",
       "</table>"
      ],
      "text/plain": [
       "<class 'statsmodels.iolib.summary.Summary'>\n",
       "\"\"\"\n",
       "                             ARIMA Model Results                              \n",
       "==============================================================================\n",
       "Dep. Variable:       D2.Casos totales   No. Observations:                   52\n",
       "Model:                 ARIMA(1, 2, 1)   Log Likelihood                -285.614\n",
       "Method:                       css-mle   S.D. of innovations             58.380\n",
       "Date:                Sat, 25 Apr 2020   AIC                            579.229\n",
       "Time:                        15:03:39   BIC                            587.034\n",
       "Sample:                    03-05-2020   HQIC                           582.221\n",
       "                         - 04-25-2020                                         \n",
       "==========================================================================================\n",
       "                             coef    std err          z      P>|z|      [0.025      0.975]\n",
       "------------------------------------------------------------------------------------------\n",
       "const                     10.3852      2.227      4.662      0.000       6.019      14.751\n",
       "ar.L1.D2.Casos totales     0.2579      0.229      1.124      0.266      -0.192       0.708\n",
       "ma.L1.D2.Casos totales    -0.8162      0.163     -4.997      0.000      -1.136      -0.496\n",
       "                                    Roots                                    \n",
       "=============================================================================\n",
       "                  Real          Imaginary           Modulus         Frequency\n",
       "-----------------------------------------------------------------------------\n",
       "AR.1            3.8773           +0.0000j            3.8773            0.0000\n",
       "MA.1            1.2253           +0.0000j            1.2253            0.0000\n",
       "-----------------------------------------------------------------------------\n",
       "\"\"\""
      ]
     },
     "execution_count": 23,
     "metadata": {},
     "output_type": "execute_result"
    }
   ],
   "source": [
    "modelo_fit.summary()"
   ]
  },
  {
   "cell_type": "code",
   "execution_count": null,
   "metadata": {},
   "outputs": [],
   "source": []
  }
 ],
 "metadata": {
  "kernelspec": {
   "display_name": "Python 3",
   "language": "python",
   "name": "python3"
  },
  "language_info": {
   "codemirror_mode": {
    "name": "ipython",
    "version": 3
   },
   "file_extension": ".py",
   "mimetype": "text/x-python",
   "name": "python",
   "nbconvert_exporter": "python",
   "pygments_lexer": "ipython3",
   "version": "3.7.4"
  }
 },
 "nbformat": 4,
 "nbformat_minor": 2
}
